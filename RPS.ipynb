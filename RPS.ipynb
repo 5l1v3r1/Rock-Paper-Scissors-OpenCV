{
 "cells": [
  {
   "cell_type": "markdown",
   "metadata": {},
   "source": [
    "#  ROCK-PAPER-SCISSORS"
   ]
  },
  {
   "cell_type": "code",
   "execution_count": 1,
   "metadata": {},
   "outputs": [],
   "source": [
    "import cv2\n",
    "\n",
    "top, bottom, right, left = 60, 350, 400, 625  #Rectangle positions\n",
    "calibrationSetSize = 5   #Number of images are going to be taken to detect gestures. (Higher is more precise but slower.)\n",
    "sleepTime = 0.1         #The time interval between images when taking photo\n",
    "#(B, G, R)\n",
    "rectangleColor = (255, 255, 255)\n",
    "textColor = (255, 255, 255)\n",
    "rectThickness = 2\n",
    "recentPlayerMoves = []\n",
    "fontPlain = cv2.FONT_HERSHEY_PLAIN\n",
    "fontSimplex = cv2.FONT_HERSHEY_SIMPLEX"
   ]
  },
  {
   "cell_type": "code",
   "execution_count": 2,
   "metadata": {
    "scrolled": true
   },
   "outputs": [
    {
     "name": "stdout",
     "output_type": "stream",
     "text": [
      "Found 2520 images belonging to 3 classes.\n",
      "Found 372 images belonging to 3 classes.\n"
     ]
    }
   ],
   "source": [
    "from tensorflow import keras\n",
    "TRAINING_DIR ='Downloads/rps/'\n",
    "training_datagen = keras.preprocessing.image.ImageDataGenerator(\n",
    "    rescale = 1./255,\n",
    "    rotation_range = 40,\n",
    "    width_shift_range = 0.2,\n",
    "    height_shift_range = 0.2,\n",
    "    shear_range = 0.2,\n",
    "    zoom_range = 0.2,\n",
    "    horizontal_flip = True,\n",
    "    fill_mode = 'nearest'\n",
    ")\n",
    "\n",
    "train_generator = training_datagen.flow_from_directory(\n",
    "        TRAINING_DIR,\n",
    "        target_size=(150, 150),\n",
    "        class_mode='categorical'\n",
    ")\n",
    "\n",
    "TESTING_DIR = 'Downloads/rps-test-set/'\n",
    "testing_datagen = keras.preprocessing.image.ImageDataGenerator(rescale = 1./255)\n",
    "\n",
    "testing_generator = testing_datagen.flow_from_directory(\n",
    "        TESTING_DIR,\n",
    "        target_size=(150, 150),\n",
    "        class_mode='categorical'\n",
    ")"
   ]
  },
  {
   "cell_type": "code",
   "execution_count": 3,
   "metadata": {},
   "outputs": [
    {
     "name": "stdout",
     "output_type": "stream",
     "text": [
      "Model: \"sequential\"\n",
      "_________________________________________________________________\n",
      "Layer (type)                 Output Shape              Param #   \n",
      "=================================================================\n",
      "conv2d (Conv2D)              (None, 148, 148, 128)     3584      \n",
      "_________________________________________________________________\n",
      "max_pooling2d (MaxPooling2D) (None, 74, 74, 128)       0         \n",
      "_________________________________________________________________\n",
      "conv2d_1 (Conv2D)            (None, 72, 72, 128)       147584    \n",
      "_________________________________________________________________\n",
      "max_pooling2d_1 (MaxPooling2 (None, 36, 36, 128)       0         \n",
      "_________________________________________________________________\n",
      "conv2d_2 (Conv2D)            (None, 34, 34, 128)       147584    \n",
      "_________________________________________________________________\n",
      "max_pooling2d_2 (MaxPooling2 (None, 17, 17, 128)       0         \n",
      "_________________________________________________________________\n",
      "conv2d_3 (Conv2D)            (None, 15, 15, 128)       147584    \n",
      "_________________________________________________________________\n",
      "max_pooling2d_3 (MaxPooling2 (None, 7, 7, 128)         0         \n",
      "_________________________________________________________________\n",
      "flatten (Flatten)            (None, 6272)              0         \n",
      "_________________________________________________________________\n",
      "dropout (Dropout)            (None, 6272)              0         \n",
      "_________________________________________________________________\n",
      "dense (Dense)                (None, 512)               3211776   \n",
      "_________________________________________________________________\n",
      "dense_1 (Dense)              (None, 3)                 1539      \n",
      "=================================================================\n",
      "Total params: 3,659,651\n",
      "Trainable params: 3,659,651\n",
      "Non-trainable params: 0\n",
      "_________________________________________________________________\n"
     ]
    }
   ],
   "source": [
    "model = keras.Sequential([\n",
    "                        keras.layers.Conv2D(128, (3,3), activation='relu', input_shape=(150, 150, 3)),\n",
    "                        keras.layers.MaxPooling2D(2,2),\n",
    "                        keras.layers.Conv2D(128, (3,3), activation='relu'),\n",
    "                        keras.layers.MaxPooling2D(2,2),\n",
    "                        keras.layers.Conv2D(128, (3,3), activation='relu'),\n",
    "                        keras.layers.MaxPooling2D(2,2),\n",
    "                        keras.layers.Conv2D(128, (3,3), activation='relu'),\n",
    "                        keras.layers.MaxPooling2D(2,2),\n",
    "                        keras.layers.Flatten(),\n",
    "                        keras.layers.Dropout(rate = 0.5),\n",
    "                        keras.layers.Dense(512, activation='relu'),\n",
    "                        keras.layers.Dense(3, activation='softmax')\n",
    "                    ])\n",
    "\n",
    "model.summary()"
   ]
  },
  {
   "cell_type": "code",
   "execution_count": 4,
   "metadata": {},
   "outputs": [
    {
     "name": "stdout",
     "output_type": "stream",
     "text": [
      "WARNING:tensorflow:From <ipython-input-4-cee170a10b97>:4: Model.fit_generator (from tensorflow.python.keras.engine.training) is deprecated and will be removed in a future version.\n",
      "Instructions for updating:\n",
      "Please use Model.fit, which supports generators.\n",
      "WARNING:tensorflow:sample_weight modes were coerced from\n",
      "  ...\n",
      "    to  \n",
      "  ['...']\n",
      "WARNING:tensorflow:sample_weight modes were coerced from\n",
      "  ...\n",
      "    to  \n",
      "  ['...']\n",
      "Train for 79 steps, validate for 12 steps\n",
      "0.470095157623291\n"
     ]
    }
   ],
   "source": [
    "import time\n",
    "model.compile(loss = 'categorical_crossentropy', optimizer='rmsprop', metrics=['accuracy'])\n",
    "t1 = time.time()\n",
    "history = model.fit_generator(train_generator, epochs = 0, validation_data = testing_generator, verbose = 1)\n",
    "print(time.time() - t1)\n",
    "model.save(\"rps.h5\")"
   ]
  },
  {
   "cell_type": "code",
   "execution_count": 23,
   "metadata": {},
   "outputs": [
    {
     "name": "stdout",
     "output_type": "stream",
     "text": [
      "rock.png\n"
     ]
    },
    {
     "ename": "IndexError",
     "evalue": "too many indices for array",
     "output_type": "error",
     "traceback": [
      "\u001b[0;31m---------------------------------------------------------------------------\u001b[0m",
      "\u001b[0;31mIndexError\u001b[0m                                Traceback (most recent call last)",
      "\u001b[0;32m<ipython-input-23-4d01411a0acf>\u001b[0m in \u001b[0;36m<module>\u001b[0;34m\u001b[0m\n\u001b[1;32m     46\u001b[0m         \u001b[0mcv2\u001b[0m\u001b[0;34m.\u001b[0m\u001b[0mputText\u001b[0m\u001b[0;34m(\u001b[0m\u001b[0mframe\u001b[0m\u001b[0;34m,\u001b[0m \u001b[0;34m\"Your Points : %d, Computer Points : %d\"\u001b[0m\u001b[0;34m%\u001b[0m\u001b[0;34m(\u001b[0m\u001b[0muser_points\u001b[0m\u001b[0;34m,\u001b[0m \u001b[0mauto_points\u001b[0m\u001b[0;34m)\u001b[0m\u001b[0;34m,\u001b[0m \u001b[0;34m(\u001b[0m\u001b[0;36m50\u001b[0m\u001b[0;34m,\u001b[0m \u001b[0;36m70\u001b[0m\u001b[0;34m)\u001b[0m\u001b[0;34m,\u001b[0m \u001b[0mcv2\u001b[0m\u001b[0;34m.\u001b[0m\u001b[0mFONT_HERSHEY_SIMPLEX\u001b[0m\u001b[0;34m,\u001b[0m \u001b[0;36m0.8\u001b[0m\u001b[0;34m,\u001b[0m \u001b[0;34m(\u001b[0m\u001b[0;36m255\u001b[0m\u001b[0;34m,\u001b[0m \u001b[0;36m0\u001b[0m\u001b[0;34m,\u001b[0m \u001b[0;36m0\u001b[0m\u001b[0;34m)\u001b[0m\u001b[0;34m,\u001b[0m \u001b[0;36m1\u001b[0m\u001b[0;34m)\u001b[0m\u001b[0;34m\u001b[0m\u001b[0;34m\u001b[0m\u001b[0m\n\u001b[1;32m     47\u001b[0m         \u001b[0mcv2\u001b[0m\u001b[0;34m.\u001b[0m\u001b[0mputText\u001b[0m\u001b[0;34m(\u001b[0m\u001b[0mframe\u001b[0m\u001b[0;34m,\u001b[0m \u001b[0;34m\"You : %s, Computer : %s\"\u001b[0m\u001b[0;34m%\u001b[0m\u001b[0;34m(\u001b[0m\u001b[0mpredict\u001b[0m\u001b[0;34m,\u001b[0m \u001b[0mauto\u001b[0m\u001b[0;34m)\u001b[0m\u001b[0;34m,\u001b[0m \u001b[0;34m(\u001b[0m\u001b[0;36m50\u001b[0m\u001b[0;34m,\u001b[0m \u001b[0;36m50\u001b[0m\u001b[0;34m)\u001b[0m\u001b[0;34m,\u001b[0m \u001b[0mcv2\u001b[0m\u001b[0;34m.\u001b[0m\u001b[0mFONT_HERSHEY_SIMPLEX\u001b[0m\u001b[0;34m,\u001b[0m \u001b[0;36m0.8\u001b[0m\u001b[0;34m,\u001b[0m \u001b[0;34m(\u001b[0m\u001b[0;36m255\u001b[0m\u001b[0;34m,\u001b[0m \u001b[0;36m0\u001b[0m\u001b[0;34m,\u001b[0m \u001b[0;36m0\u001b[0m\u001b[0;34m)\u001b[0m\u001b[0;34m,\u001b[0m \u001b[0;36m1\u001b[0m\u001b[0;34m)\u001b[0m\u001b[0;34m\u001b[0m\u001b[0;34m\u001b[0m\u001b[0m\n\u001b[0;32m---> 48\u001b[0;31m         \u001b[0mroi\u001b[0m \u001b[0;34m=\u001b[0m \u001b[0mroi_color\u001b[0m\u001b[0;34m[\u001b[0m\u001b[0;36m100\u001b[0m\u001b[0;34m,\u001b[0m \u001b[0;36m200\u001b[0m\u001b[0;34m]\u001b[0m\u001b[0;34m\u001b[0m\u001b[0;34m\u001b[0m\u001b[0m\n\u001b[0m\u001b[1;32m     49\u001b[0m \u001b[0;34m\u001b[0m\u001b[0m\n\u001b[1;32m     50\u001b[0m         \u001b[0;31m# roi_bg contains the original image only where the mustache is not\u001b[0m\u001b[0;34m\u001b[0m\u001b[0;34m\u001b[0m\u001b[0;34m\u001b[0m\u001b[0m\n",
      "\u001b[0;31mIndexError\u001b[0m: too many indices for array"
     ]
    }
   ],
   "source": [
    "import matplotlib.pyplot as plt\n",
    "import numpy as np\n",
    "import random, os\n",
    "path = r\"random\"\n",
    "computerMoveImage = cv2.imread(\"/random/default.jpg\")\n",
    "\n",
    "(wx, wy, length) = (370, 120, 250)\n",
    "(user_points, auto_points) = (0, 0)\n",
    "(previous_prediction, prediction) = (\"!\", \"@\")\n",
    "(predict, restart, auto) = (\"\", False, \"\")\n",
    "classes = [\"Paper\", \"Rock\", \"Scissor\"]\n",
    "\n",
    "video = cv2.VideoCapture(-1)\n",
    "\n",
    "while(True):\n",
    "    check, frame = video.read()\n",
    "\n",
    "#frame = np.reshape(frame, (1, 150, 150, -1))\n",
    "#gray = cv2.cvtColor(frame, cv2.COLOR_BGR2GRAY)\n",
    "#cv2.imshow('frame', gray)\n",
    "\n",
    "    if restart:\n",
    "        (user_points, auto_points) = (0, 0)\n",
    "        restart = False\n",
    "        \n",
    "    if check:\n",
    "        cv2.rectangle(frame, (left, top), (right, bottom), rectangleColor, rectThickness)\n",
    "        computerMoveImage = random.choice([\n",
    "            x for x in os.listdir(path)\n",
    "            if os.path.isfile(os.path.join(path, x))\n",
    "        ])\n",
    "        print(computerMoveImage)\n",
    "        roi_color = frame[150, 150]\n",
    "\n",
    "        computerMoveImage = cv2.imread(\"./random/{}\".format(computerMoveImage),-1)\n",
    "        orig_mask = computerMoveImage[:,:,2]\n",
    " \n",
    "        # Create the inverted mask for the mustache\n",
    "        orig_mask_inv = cv2.bitwise_not(orig_mask)\n",
    " \n",
    "        # Convert mustache image to BGR\n",
    "        # and save the original image size (used later when re-sizing the image)\n",
    "        computerMoveImage = computerMoveImage[:,:,0:3]\n",
    "        origMustacheHeight, origMustacheWidth = computerMoveImage.shape[:2]\n",
    "        cv2.rectangle(frame, (left, top), (right, bottom), rectangleColor, rectThickness)\n",
    "        cv2.putText(frame, \"Your Points : %d, Computer Points : %d\"%(user_points, auto_points), (50, 70), cv2.FONT_HERSHEY_SIMPLEX, 0.8, (255, 0, 0), 1)\n",
    "        cv2.putText(frame, \"You : %s, Computer : %s\"%(predict, auto), (50, 50), cv2.FONT_HERSHEY_SIMPLEX, 0.8, (255, 0, 0), 1)\n",
    "        roi = roi_color[100, 200]\n",
    " \n",
    "        # roi_bg contains the original image only where the mustache is not\n",
    "        # in the region that is the size of the mustache.\n",
    "        roi_bg = cv2.bitwise_and(roi,roi,mask = mask_inv)\n",
    "\n",
    "        # roi_fg contains the image of the mustache only where the mustache is\n",
    "        roi_fg = cv2.bitwise_and(mustache,mustache,mask = mask)\n",
    "\n",
    "        # join the roi_bg and roi_fg\n",
    "        dst = cv2.add(roi_bg,roi_fg)\n",
    "\n",
    "        # place the joined image, saved to dst back over the original image\n",
    "        roi_color[y1:y2, x1:x2] = dst\n",
    "        frame = frame[wy : wy + length, wx : wx + length]\n",
    "        frame = cv2.resize(frame, (150, 150))\n",
    "        frame = np.expand_dims(frame, axis=0)\n",
    "        prediction = model.predict(frame)[0]\n",
    "        predict = classes[np.argmax(prediction)]\n",
    "        #print(prediction)\n",
    "        if predict != previous_prediction:\n",
    "            auto = random.choice(classes)\n",
    "            if predict == \"Paper\" and auto == \"Rock\":\n",
    "                user_points += 1\n",
    "            if predict == \"Paper\" and auto == \"Scissor\":\n",
    "                auto_points += 1\n",
    "            if predict == \"Rock\" and auto == \"Paper\":\n",
    "                auto_points += 1\n",
    "            if predict == \"Rock\" and auto == \"Scissor\":\n",
    "                user_points += 1\n",
    "            if predict == \"Scissor\" and auto == \"Paper\":\n",
    "                user_points += 1\n",
    "            if predict == \"Scissor\" and auto == \"Rock\":\n",
    "                auto_points += 1\n",
    "            previous_prediction = predict\n",
    "        cv2.imshow(\"RockPaperScissors\", frame)\n",
    "    \n",
    "    key = cv2.waitKey(1) & 0xFF\n",
    "    if key == ord('q'):\n",
    "        break\n",
    "    if key == ord('r'):\n",
    "        restart = True\n",
    "        \n",
    "video.release()\n",
    "cv2.destroyAllWindows()"
   ]
  },
  {
   "cell_type": "code",
   "execution_count": null,
   "metadata": {},
   "outputs": [],
   "source": [
    "import random, os, cv2\n",
    "path = r\"random\"\n",
    "picture = random.choice([\n",
    "            x for x in os.listdir(path)\n",
    "            if os.path.isfile(os.path.join(path, x))\n",
    "        ])\n",
    "\n",
    "print(picture)\n",
    "computerMoveImage = cv2.imread(\"./random/{}\".format(picture))\n",
    "print(computerMoveImage)\n"
   ]
  },
  {
   "cell_type": "code",
   "execution_count": null,
   "metadata": {},
   "outputs": [],
   "source": []
  },
  {
   "cell_type": "code",
   "execution_count": null,
   "metadata": {},
   "outputs": [],
   "source": []
  }
 ],
 "metadata": {
  "kernelspec": {
   "display_name": "Python 3",
   "language": "python",
   "name": "python3"
  },
  "language_info": {
   "codemirror_mode": {
    "name": "ipython",
    "version": 3
   },
   "file_extension": ".py",
   "mimetype": "text/x-python",
   "name": "python",
   "nbconvert_exporter": "python",
   "pygments_lexer": "ipython3",
   "version": "3.6.9"
  }
 },
 "nbformat": 4,
 "nbformat_minor": 4
}
